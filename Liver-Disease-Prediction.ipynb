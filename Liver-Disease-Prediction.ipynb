{
 "cells": [
  {
   "cell_type": "code",
   "execution_count": null,
   "metadata": {},
   "outputs": [],
   "source": [
    "import random\n",
    "import numpy as np\n",
    "import pandas as pd\n",
    "import matplotlib.pyplot as plt\n",
    "import seaborn as sb\n",
    "from sklearn.neighbors import KNeighborsClassifier\n",
    "from sklearn.tree import DecisionTreeClassifier\n",
    "from sklearn.linear_model import LogisticRegression\n",
    "\n",
    "\n",
    "\n",
    "from sklearn.model_selection import train_test_split\n",
    "from sklearn.neural_network import MLPClassifier\n",
    "from sklearn.metrics import accuracy_score, confusion_matrix\n",
    "from sklearn.preprocessing import Normalizer, MinMaxScaler, StandardScaler , RobustScaler\n",
    "from sklearn.model_selection import cross_val_score\n",
    "data = pd.read_csv('E:/term6/Machine Learning/indian_liver_patient.csv')\n",
    "# data = pd.read_csv('C:/Users/TOSHIBA/Desktop/ML_Project/indian_liver_patient.csv')"
   ]
  },
  {
   "cell_type": "code",
   "execution_count": null,
   "metadata": {},
   "outputs": [],
   "source": [
    "print(data)"
   ]
  },
  {
   "cell_type": "code",
   "execution_count": null,
   "metadata": {},
   "outputs": [],
   "source": [
    "for item in data[\"Gender\"]:\n",
    "    data[\"Gender\"] = data[\"Gender\"].replace(\"Female\", 1)\n",
    "    data[\"Gender\"] = data[\"Gender\"].replace(\"Male\", 0)\n",
    "print(data[\"Gender\"].head(10))\n"
   ]
  },
  {
   "cell_type": "code",
   "execution_count": null,
   "metadata": {},
   "outputs": [],
   "source": [
    "data.isna().sum()"
   ]
  },
  {
   "cell_type": "code",
   "execution_count": null,
   "metadata": {},
   "outputs": [],
   "source": [
    "sb.boxplot(data.Albumin_and_Globulin_Ratio)"
   ]
  },
  {
   "cell_type": "code",
   "execution_count": null,
   "metadata": {},
   "outputs": [],
   "source": [
    "x = data['Albumin_and_Globulin_Ratio'].median()\n",
    "data['Albumin_and_Globulin_Ratio'].fillna(x, inplace = True)"
   ]
  },
  {
   "cell_type": "code",
   "execution_count": null,
   "metadata": {},
   "outputs": [],
   "source": [
    "data.isna().sum()"
   ]
  },
  {
   "cell_type": "code",
   "execution_count": null,
   "metadata": {},
   "outputs": [],
   "source": [
    "data.drop_duplicates(inplace=True)"
   ]
  },
  {
   "cell_type": "code",
   "execution_count": null,
   "metadata": {},
   "outputs": [],
   "source": [
    "sb.countplot(x='Dataset', data=data)"
   ]
  },
  {
   "cell_type": "code",
   "execution_count": null,
   "metadata": {},
   "outputs": [],
   "source": [
    "x = np.array(data.drop(['Dataset'], axis=1))\n",
    "y = np.array(data['Dataset'])"
   ]
  },
  {
   "cell_type": "code",
   "execution_count": null,
   "metadata": {},
   "outputs": [],
   "source": [
    "from imblearn.over_sampling import SMOTE\n",
    "from collections import Counter\n",
    "\n",
    "print(Counter(y))\n",
    "\n",
    "smote = SMOTE()\n",
    "x, y = smote.fit_resample(x, y)\n",
    "print(Counter(y))\n",
    "\n",
    "data = pd.DataFrame(x)\n",
    "data['Dataset'] = y\n",
    "data.columns = ['Age', 'Gender', 'Total_Bilirubin', 'Direct_Bilirubin', 'Alkaline_Phosphotase', 'Alamine_Aminotransferase', 'Aspartate_Aminotransferase', 'Total_Protiens', 'Albumin', 'Albumin_and_Globulin_Ratio', 'Dataset']\n",
    "print(data)"
   ]
  },
  {
   "cell_type": "code",
   "execution_count": null,
   "metadata": {},
   "outputs": [],
   "source": [
    "sb.countplot(x='Dataset', data=data)"
   ]
  },
  {
   "cell_type": "code",
   "execution_count": null,
   "metadata": {},
   "outputs": [],
   "source": [
    "data = data.dropna(axis = 0)\n",
    "sb.boxplot(data = data)"
   ]
  },
  {
   "cell_type": "code",
   "execution_count": null,
   "metadata": {},
   "outputs": [],
   "source": [
    "cols = ['Age', 'Gender', 'Total_Bilirubin', 'Direct_Bilirubin', 'Alkaline_Phosphotase', 'Alamine_Aminotransferase', 'Aspartate_Aminotransferase', 'Total_Protiens', 'Albumin', 'Albumin_and_Globulin_Ratio']\n",
    "fea = data[cols]\n",
    "scaler = RobustScaler()\n",
    "fea = scaler.fit_transform(fea.values)\n",
    "data[cols] = fea\n",
    "# data = pd.DataFrame(data)\n",
    "# data.columns = ['Age', 'Gender', 'Total_Bilirubin', 'Direct_Bilirubin', 'Alkaline_Phosphotase', 'Alamine_Aminotransferase', 'Aspartate_Aminotransferase', 'Total_Protiens', 'Albumin', 'Albumin_and_Globulin_Ratio', 'Dataset']\n",
    "print(data)"
   ]
  },
  {
   "cell_type": "code",
   "execution_count": null,
   "metadata": {},
   "outputs": [],
   "source": [
    "# data = data.dropna(axis = 0)\n",
    "sb.boxplot(data = data)"
   ]
  },
  {
   "cell_type": "code",
   "execution_count": null,
   "metadata": {},
   "outputs": [],
   "source": [
    "corr = data.corr()\n",
    "ax = sb.heatmap(corr, linewidth=0.5)\n",
    "plt.show()"
   ]
  },
  {
   "cell_type": "code",
   "execution_count": null,
   "metadata": {},
   "outputs": [],
   "source": [
    "data.drop(['Age', 'Direct_Bilirubin', 'Alkaline_Phosphotase', 'Aspartate_Aminotransferase', 'Total_Protiens', 'Albumin_and_Globulin_Ratio'], inplace=True, axis = 1)\n",
    "print(data)"
   ]
  },
  {
   "cell_type": "code",
   "execution_count": null,
   "metadata": {},
   "outputs": [],
   "source": [
    "x_train,x_test,y_train,y_test = train_test_split(x,y,test_size=0.4)"
   ]
  },
  {
   "cell_type": "code",
   "execution_count": null,
   "metadata": {},
   "outputs": [],
   "source": [
    "print(data)"
   ]
  },
  {
   "cell_type": "code",
   "execution_count": null,
   "metadata": {},
   "outputs": [],
   "source": [
    "neighbors = np.arange(1, 10)\n",
    "train_accuracies = {}\n",
    "test_accuracies = {}\n",
    "tmp1 = 0\n",
    "tmp2 = 0\n",
    "\n",
    "for neighbor in neighbors:\n",
    "    knn = KNeighborsClassifier(n_neighbors=neighbor)\n",
    "    knn.fit(x_train, y_train)\n",
    "    train_accuracies[neighbor] = knn.score(x_train, y_train)\n",
    "    test_accuracies[neighbor] = knn.score(x_test, y_test)\n",
    "    if tmp1 < knn.score(x_test, y_test):\n",
    "        tmp1 = knn.score(x_test, y_test)\n",
    "        k = neighbor\n",
    "\n",
    "plt.plot(neighbors, train_accuracies.values(), label=\"KNN Training Accuracy\")\n",
    "plt.plot(neighbors, test_accuracies.values(), label=\"KNN Testing Accuracy\")\n",
    "plt.legend()\n",
    "plt.xlabel(\"Number of Neighbors\")\n",
    "plt.ylabel(\"Accuracy\")\n",
    "\n",
    "\n",
    "depths = np.arange(1, 10)\n",
    "train_accuracies = {}\n",
    "test_accuracies = {}\n",
    "\n",
    "for depth in depths:\n",
    "    DT = DecisionTreeClassifier(max_depth=depth)\n",
    "    DT.fit(x_train, y_train)\n",
    "    train_accuracies[depth] = DT.score(x_train, y_train)\n",
    "    test_accuracies[depth] = DT.score(x_test, y_test)\n",
    "    if tmp2 < DT.score(x_test, y_test):\n",
    "        tmp2 = DT.score(x_test, y_test)\n",
    "        d = depth\n",
    "plt.plot(depths, train_accuracies.values(), label=\"DT Training Accuracy\")\n",
    "plt.plot(depths, test_accuracies.values(), label=\"DT Testing Accuracy\")\n",
    "plt.legend()\n",
    "plt.xlabel(\"Number of Neighbors\")\n",
    "plt.ylabel(\"Accuracy\")\n",
    "plt.show()\n",
    "\n",
    "classifier = DecisionTreeClassifier(max_depth=d)\n",
    "c=classifier.fit(x_train,y_train)\n",
    "y_predict = classifier.predict(x_test)\n",
    "print('Decision Tree Testing Accuracy: {:.2f}%'.format(accuracy_score(y_test,y_predict)*100 ))\n",
    "print('Decision Tree Trainning Accuracy: {:.2f}%'.format(classifier.score(x_train,y_train)*100 ))\n",
    "\n",
    "\n",
    "\n",
    "k_classifier = KNeighborsClassifier(n_neighbors=k)\n",
    "k = k_classifier.fit(x_train,y_train)\n",
    "y_predict = k_classifier.predict(x_test)\n",
    "print('KNN Testing Accuracy: {:.2f}%'.format(accuracy_score(y_test,y_predict)*100 ))\n",
    "print('KNN Training Accuracy: {:.2f}%'.format(k_classifier.score(x_train,y_train)*100 ))"
   ]
  },
  {
   "cell_type": "code",
   "execution_count": null,
   "metadata": {},
   "outputs": [],
   "source": [
    "iters = np.arange(1, 50)\n",
    "train_accuracies = {}\n",
    "test_accuracies = {}\n",
    "tmp3 = 0\n",
    "\n",
    "for iterr in iters:\n",
    "    mlp = MLPClassifier(\n",
    "    max_iter=iterr,\n",
    "    alpha=0.1,\n",
    "    activation='logistic',\n",
    "    solver='adam',\n",
    "    random_state=42\n",
    "    )\n",
    "    mlp.fit(x_train, y_train)\n",
    "    train_accuracies[iterr] = mlp.score(x_train, y_train)\n",
    "    test_accuracies[iterr] = mlp.score(x_test, y_test)\n",
    "plt.plot(iters, train_accuracies.values(), label=\"MLP Training Accuracy\")\n",
    "plt.plot(iters, test_accuracies.values(), label=\"MLP Testing Accuracy\")\n",
    "plt.legend()\n",
    "plt.xlabel(\"Number of Neighbors\")\n",
    "plt.ylabel(\"Accuracy\")\n",
    "plt.show()\n"
   ]
  },
  {
   "cell_type": "code",
   "execution_count": null,
   "metadata": {},
   "outputs": [],
   "source": [
    "mlp = MLPClassifier(\n",
    "    max_iter=1000,\n",
    "    random_state=42\n",
    ")\n",
    "mlp.fit(x_train, y_train)\n",
    "mlp_predict = mlp.predict(x_test)\n",
    "print('MLP Testing Accuracy: {:.2f}%'.format(accuracy_score(y_test, mlp_predict) * 100))\n",
    "print('MLP Training Accuracy: {:.2f}%'.format(mlp.score(x_train, y_train) * 100))"
   ]
  },
  {
   "cell_type": "code",
   "execution_count": null,
   "metadata": {},
   "outputs": [],
   "source": []
  }
 ],
 "metadata": {
  "kernelspec": {
   "display_name": "Python 3",
   "language": "python",
   "name": "python3"
  },
  "language_info": {
   "codemirror_mode": {
    "name": "ipython",
    "version": 3
   },
   "file_extension": ".py",
   "mimetype": "text/x-python",
   "name": "python",
   "nbconvert_exporter": "python",
   "pygments_lexer": "ipython3",
   "version": "3.7.3"
  }
 },
 "nbformat": 4,
 "nbformat_minor": 2
}
