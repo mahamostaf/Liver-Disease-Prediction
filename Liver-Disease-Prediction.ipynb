{
 "cells": [
  {
   "cell_type": "code",
   "execution_count": 1,
   "metadata": {},
   "outputs": [],
   "source": [
    "import random\n",
    "import numpy as np\n",
    "import pandas as pd\n",
    "import matplotlib.pyplot as plt\n",
    "import seaborn as sb\n",
    "from sklearn.neighbors import KNeighborsClassifier\n",
    "from sklearn.tree import DecisionTreeClassifier\n",
    "from sklearn.linear_model import LogisticRegression\n",
    "\n",
    "\n",
    "\n",
    "from sklearn.model_selection import train_test_split\n",
    "from sklearn.neural_network import MLPClassifier\n",
    "from sklearn.metrics import accuracy_score, confusion_matrix\n",
    "from sklearn.preprocessing import Normalizer, MinMaxScaler, StandardScaler , RobustScaler\n",
    "from sklearn.model_selection import cross_val_score\n",
    "data = pd.read_csv('E:/term6/Machine Learning/indian_liver_patient.csv')\n",
    "# data = pd.read_csv('C:/Users/TOSHIBA/Desktop/ML_Project/indian_liver_patient.csv')"
   ]
  },
  {
   "cell_type": "markdown",
   "metadata": {},
   "source": [
    "duplicate = data[data.duplicated()]\n",
    "print(duplicate)"
   ]
  },
  {
   "cell_type": "code",
   "execution_count": 2,
   "metadata": {},
   "outputs": [
    {
     "name": "stdout",
     "output_type": "stream",
     "text": [
      "0    1\n",
      "1    0\n",
      "2    0\n",
      "3    0\n",
      "4    0\n",
      "5    0\n",
      "6    1\n",
      "7    1\n",
      "8    0\n",
      "9    0\n",
      "Name: Gender, dtype: int64\n"
     ]
    }
   ],
   "source": [
    "for item in data[\"Gender\"]:\n",
    "    data[\"Gender\"] = data[\"Gender\"].replace(\"Female\", 1)\n",
    "    data[\"Gender\"] = data[\"Gender\"].replace(\"Male\", 0)\n",
    "print(data[\"Gender\"].head(10))\n"
   ]
  },
  {
   "cell_type": "code",
   "execution_count": 3,
   "metadata": {},
   "outputs": [
    {
     "data": {
      "text/plain": [
       "Age                           0\n",
       "Gender                        0\n",
       "Total_Bilirubin               0\n",
       "Direct_Bilirubin              0\n",
       "Alkaline_Phosphotase          0\n",
       "Alamine_Aminotransferase      0\n",
       "Aspartate_Aminotransferase    0\n",
       "Total_Protiens                0\n",
       "Albumin                       0\n",
       "Albumin_and_Globulin_Ratio    4\n",
       "Dataset                       0\n",
       "dtype: int64"
      ]
     },
     "execution_count": 3,
     "metadata": {},
     "output_type": "execute_result"
    }
   ],
   "source": [
    "data.isna().sum()"
   ]
  },
  {
   "cell_type": "code",
   "execution_count": 4,
   "metadata": {},
   "outputs": [
    {
     "name": "stdout",
     "output_type": "stream",
     "text": [
      "<class 'pandas.core.frame.DataFrame'>\n",
      "RangeIndex: 583 entries, 0 to 582\n",
      "Data columns (total 11 columns):\n",
      "Age                           583 non-null int64\n",
      "Gender                        583 non-null int64\n",
      "Total_Bilirubin               583 non-null float64\n",
      "Direct_Bilirubin              583 non-null float64\n",
      "Alkaline_Phosphotase          583 non-null int64\n",
      "Alamine_Aminotransferase      583 non-null int64\n",
      "Aspartate_Aminotransferase    583 non-null int64\n",
      "Total_Protiens                583 non-null float64\n",
      "Albumin                       583 non-null float64\n",
      "Albumin_and_Globulin_Ratio    579 non-null float64\n",
      "Dataset                       583 non-null int64\n",
      "dtypes: float64(5), int64(6)\n",
      "memory usage: 50.2 KB\n",
      "None\n"
     ]
    }
   ],
   "source": [
    "print(data.info())"
   ]
  },
  {
   "cell_type": "code",
   "execution_count": 5,
   "metadata": {},
   "outputs": [],
   "source": [
    "x = data['Albumin_and_Globulin_Ratio'].mean()\n",
    "data['Albumin_and_Globulin_Ratio'].fillna(x, inplace = True)"
   ]
  },
  {
   "cell_type": "code",
   "execution_count": 6,
   "metadata": {},
   "outputs": [
    {
     "data": {
      "text/plain": [
       "Age                           0\n",
       "Gender                        0\n",
       "Total_Bilirubin               0\n",
       "Direct_Bilirubin              0\n",
       "Alkaline_Phosphotase          0\n",
       "Alamine_Aminotransferase      0\n",
       "Aspartate_Aminotransferase    0\n",
       "Total_Protiens                0\n",
       "Albumin                       0\n",
       "Albumin_and_Globulin_Ratio    0\n",
       "Dataset                       0\n",
       "dtype: int64"
      ]
     },
     "execution_count": 6,
     "metadata": {},
     "output_type": "execute_result"
    }
   ],
   "source": [
    "data.isna().sum()"
   ]
  },
  {
   "cell_type": "code",
   "execution_count": 7,
   "metadata": {},
   "outputs": [],
   "source": [
    "data.drop_duplicates(inplace=True)"
   ]
  },
  {
   "cell_type": "code",
   "execution_count": 8,
   "metadata": {},
   "outputs": [
    {
     "data": {
      "image/png": "[encoded data removed]",
      "text/plain": [
       "<Figure size 432x288 with 2 Axes>"
      ]
     },
     "metadata": {
      "needs_background": "light"
     },
     "output_type": "display_data"
    }
   ],
   "source": [
    "corr = data.corr()\n",
    "ax = sb.heatmap(corr, linewidth=0.5)\n",
    "plt.show()"
   ]
  },
  {
   "cell_type": "code",
   "execution_count": 9,
   "metadata": {},
   "outputs": [
    {
     "data": {
      "text/plain": [
       "<matplotlib.axes._subplots.AxesSubplot at 0xc067a20>"
      ]
     },
     "execution_count": 9,
     "metadata": {},
     "output_type": "execute_result"
    },
    {
     "data": {
      "image/png": "[encoded data removed]",
      "text/plain": [
       "<Figure size 432x288 with 1 Axes>"
      ]
     },
     "metadata": {
      "needs_background": "light"
     },
     "output_type": "display_data"
    }
   ],
   "source": [
    "data = data.dropna(axis = 0)\n",
    "sb.boxplot(data = data)"
   ]
  },
  {
   "cell_type": "code",
   "execution_count": 10,
   "metadata": {},
   "outputs": [],
   "source": [
    "scaler = RobustScaler()\n",
    "data = scaler.fit_transform(data.to_numpy())\n",
    "data = pd.DataFrame(data, columns=['Age','Gender','Total_Bilirubin','Direct_Bilirubin','Alkaline_Phosphotase','Alamine_Aminotransferase','Aspartate_Aminotransferase' ,'Total_Protiens','Albumin','Albumin_and_Globulin_Ratio','Dataset'])"
   ]
  },
  {
   "cell_type": "code",
   "execution_count": 11,
   "metadata": {},
   "outputs": [
    {
     "data": {
      "text/plain": [
       "<matplotlib.axes._subplots.AxesSubplot at 0xca18358>"
      ]
     },
     "execution_count": 11,
     "metadata": {},
     "output_type": "execute_result"
    },
    {
     "data": {
      "image/png": "[encoded data removed]",
      "text/plain": [
       "<Figure size 432x288 with 1 Axes>"
      ]
     },
     "metadata": {
      "needs_background": "light"
     },
     "output_type": "display_data"
    }
   ],
   "source": [
    "data = data.dropna(axis = 0)\n",
    "sb.boxplot(data = data)"
   ]
  },
  {
   "cell_type": "code",
   "execution_count": 12,
   "metadata": {},
   "outputs": [],
   "source": [
    "features = np.array(data.drop(['Dataset'], axis=1))\n",
    "labels = np.array(data['Dataset'])\n",
    "x_train,x_test,y_train,y_test = train_test_split(features,labels,test_size=0.4)"
   ]
  },
  {
   "cell_type": "markdown",
   "metadata": {},
   "source": [
    "scaler = MinMaxScaler()\n",
    "data = scaler.fit_transform(data.to_numpy())\n",
    "data = pd.DataFrame(data, columns=['Age','Gender','Total_Bilirubin','Direct_Bilirubin','Alkaline_Phosphotase','Alamine_Aminotransferase','Aspartate_Aminotransferase' ,'Total_Protiens','Albumin','Albumin_and_Globulin_Ratio','Dataset'])"
   ]
  },
  {
   "cell_type": "code",
   "execution_count": 14,
   "metadata": {},
   "outputs": [
    {
     "name": "stdout",
     "output_type": "stream",
     "text": [
      "      Age  Gender  Total_Bilirubin  Direct_Bilirubin  Alkaline_Phosphotase  \\\n",
      "0    0.80     1.0        -0.166667         -0.181818             -0.172131   \n",
      "1    0.68     0.0         5.500000          4.727273              4.024590   \n",
      "2    0.68     0.0         3.500000          3.454545              2.311475   \n",
      "3    0.52     0.0         0.000000          0.090909             -0.213115   \n",
      "4    1.08     0.0         1.611111          1.545455             -0.106557   \n",
      "5    0.04     0.0         0.444444          0.363636              0.000000   \n",
      "6   -0.76     1.0        -0.055556         -0.090909             -0.442623   \n",
      "7   -0.64     1.0        -0.055556          0.000000             -0.049180   \n",
      "8   -1.12     0.0        -0.055556          0.000000             -0.049180   \n",
      "9    0.40     0.0        -0.166667         -0.090909              0.672131   \n",
      "10   0.48     0.0        -0.222222         -0.181818              0.016393   \n",
      "11   1.08     0.0         0.944444          0.909091              0.426230   \n",
      "12   0.76     0.0        -0.055556          0.000000              0.836066   \n",
      "13   1.16     1.0         0.055556          0.090909              0.049180   \n",
      "14   0.64     0.0        -0.166667         -0.090909             -0.516393   \n",
      "15  -0.80     0.0        -0.222222         -0.181818             -0.204918   \n",
      "16  -0.28     0.0         0.444444          0.454545              1.098361   \n",
      "17  -0.48     0.0         0.333333          0.181818             -0.352459   \n",
      "18  -0.20     1.0        -0.055556          0.000000              0.696721   \n",
      "19   0.24     0.0         0.666667          0.636364              3.295082   \n",
      "20   0.24     0.0         1.055556          0.909091              2.245902   \n",
      "21   0.68     0.0         3.222222          2.454545              2.737705   \n",
      "22  -0.20     0.0         0.500000          0.636364              0.188525   \n",
      "23   0.72     0.0        -0.055556         -0.090909             -0.114754   \n",
      "24  -0.44     0.0         1.722222          1.545455              0.663934   \n",
      "25  -0.44     0.0         2.888889          2.454545              0.262295   \n",
      "26  -1.00     0.0         0.055556          0.181818             -0.655738   \n",
      "27   1.56     1.0        -0.166667         -0.090909             -0.163934   \n",
      "28   0.48     0.0         1.666667          1.454545             -0.147541   \n",
      "29   0.28     0.0        -0.055556         -0.090909             -0.426230   \n",
      "..    ...     ...              ...               ...                   ...   \n",
      "540  0.04     0.0         5.111111          3.545455              0.196721   \n",
      "541  1.12     0.0         0.444444          0.545455              0.098361   \n",
      "542  0.40     0.0        -0.111111         -0.090909              0.672131   \n",
      "543  0.24     0.0        -0.166667         -0.181818             -0.229508   \n",
      "544  0.24     0.0         1.055556          0.818182             -0.155738   \n",
      "545  0.24     0.0         1.666667          2.000000              0.549180   \n",
      "546 -0.76     0.0        23.222222         17.636364              1.491803   \n",
      "547  0.84     0.0         7.888889          6.727273              1.213115   \n",
      "548  0.84     0.0         8.666667          6.636364              0.877049   \n",
      "549  0.84     0.0         9.055556          7.454545              1.475410   \n",
      "550  0.76     0.0         0.222222          0.181818              0.737705   \n",
      "551 -0.28     1.0        -0.222222         -0.181818             -0.352459   \n",
      "552 -0.08     0.0        11.944444         10.454545             -0.532787   \n",
      "553  0.20     1.0         0.000000          0.000000             -0.139344   \n",
      "554  0.28     0.0         0.944444          1.000000              0.352459   \n",
      "555 -1.00     1.0         8.722222          7.363636             -0.065574   \n",
      "556 -1.16     0.0         3.722222          3.454545              0.491803   \n",
      "557 -1.16     0.0         0.888889          0.818182              0.229508   \n",
      "558  1.80     0.0         0.055556          0.000000              0.057377   \n",
      "559 -0.52     0.0         8.111111          8.363636             -0.606557   \n",
      "560 -0.52     0.0         1.500000          1.181818              3.311475   \n",
      "561 -0.52     0.0         6.166667          5.181818              2.516393   \n",
      "562 -0.52     0.0        13.333333         12.181818              2.885246   \n",
      "563 -0.52     0.0         7.777778          7.181818              0.663934   \n",
      "564 -0.52     0.0         6.500000          7.363636             -0.147541   \n",
      "565  0.60     0.0        -0.277778         -0.181818              2.393443   \n",
      "566 -0.20     0.0        -0.222222         -0.181818             -0.901639   \n",
      "567  0.28     0.0        -0.111111         -0.090909              0.303279   \n",
      "568 -0.56     0.0         0.166667          0.181818             -0.196721   \n",
      "569 -0.28     0.0         0.000000          0.000000              0.065574   \n",
      "\n",
      "     Alamine_Aminotransferase  Aspartate_Aminotransferase  Total_Protiens  \\\n",
      "0                   -0.513514                   -0.372470        0.142857   \n",
      "1                    0.783784                    0.955466        0.642857   \n",
      "2                    0.675676                    0.437247        0.285714   \n",
      "3                   -0.567568                   -0.340081        0.142857   \n",
      "4                   -0.216216                    0.291498        0.500000   \n",
      "5                   -0.432432                   -0.437247        0.714286   \n",
      "6                   -0.513514                   -0.469636        0.285714   \n",
      "7                   -0.567568                   -0.485830        0.071429   \n",
      "8                   -0.351351                   -0.356275        0.571429   \n",
      "9                    0.486486                    0.275304        0.142857   \n",
      "10                   0.432432                    0.291498       -0.500000   \n",
      "11                  -0.108108                    0.242915        0.571429   \n",
      "12                   0.702703                    0.275304        0.285714   \n",
      "13                  -0.351351                   -0.178138        1.071429   \n",
      "14                   0.486486                    0.000000       -0.571429   \n",
      "15                   1.513514                    0.194332       -0.785714   \n",
      "16                   3.594595                    6.477733        0.714286   \n",
      "17                  -0.540541                   -0.291498        0.500000   \n",
      "18                   5.324324                    3.303644        0.142857   \n",
      "19                  -0.486486                   -0.210526        0.500000   \n",
      "20                  -0.351351                   -0.113360        0.285714   \n",
      "21                   2.189189                    0.404858       -0.142857   \n",
      "22                  -0.513514                    0.226721       -1.642857   \n",
      "23                   0.459459                    0.064777       -0.428571   \n",
      "24                  22.702703                   11.174089       -1.142857   \n",
      "25                  44.459459                   13.101215        0.428571   \n",
      "26                  -0.405405                   -0.178138       -1.928571   \n",
      "27                  -0.594595                   -0.323887       -0.428571   \n",
      "28                   0.270270                    1.133603       -1.000000   \n",
      "29                   0.000000                    0.048583       -1.214286   \n",
      "..                        ...                         ...             ...   \n",
      "540                  0.621622                    1.603239        0.285714   \n",
      "541                 -0.405405                    0.032389       -0.071429   \n",
      "542                  2.810811                    0.744939        0.285714   \n",
      "543                 -0.270270                   -0.226721       -0.357143   \n",
      "544                  1.216216                    1.360324       -0.285714   \n",
      "545                  9.378378                    4.680162        0.642857   \n",
      "546                  1.081081                    1.570850        0.642857   \n",
      "547                  7.729730                    8.437247       -0.071429   \n",
      "548                  5.351351                    5.554656        0.214286   \n",
      "549                  3.729730                    5.279352        0.857143   \n",
      "550                 -0.108108                    0.680162        0.428571   \n",
      "551                 -0.351351                   -0.113360       -0.500000   \n",
      "552                 -0.351351                    1.651822        0.000000   \n",
      "553                 -0.351351                   -0.161943        0.857143   \n",
      "554                 -0.405405                   -0.016194       -0.428571   \n",
      "555                  1.513514                    0.971660        0.214286   \n",
      "556                  4.810811                    2.056680        0.357143   \n",
      "557                  2.594595                    0.793522       -0.857143   \n",
      "558                  0.297297                    1.506073        0.214286   \n",
      "559                  0.513514                    1.360324       -0.714286   \n",
      "560                  0.405405                    0.761134       -0.285714   \n",
      "561                  0.351351                    0.825911        0.000000   \n",
      "562                  0.162162                    0.761134        0.928571   \n",
      "563                  0.621622                    0.631579       -0.928571   \n",
      "564                 -0.189189                    0.097166       -0.857143   \n",
      "565                 -0.405405                   -0.113360       -0.500000   \n",
      "566                  0.000000                   -0.161943       -0.428571   \n",
      "567                  0.351351                    0.129555       -0.142857   \n",
      "568                 -0.162162                   -0.145749        0.142857   \n",
      "569                 -0.378378                   -0.275304        0.500000   \n",
      "\n",
      "      Albumin  Albumin_and_Globulin_Ratio  Dataset  \n",
      "0    0.166667                    -0.11766      0.0  \n",
      "1    0.083333                    -0.51766      0.0  \n",
      "2    0.166667                    -0.14266      0.0  \n",
      "3    0.250000                     0.13234      0.0  \n",
      "4   -0.583333                    -1.36766      0.0  \n",
      "5    1.083333                     0.88234      0.0  \n",
      "6    0.333333                     0.13234      0.0  \n",
      "7    0.416667                     0.38234      0.0  \n",
      "8    0.833333                     0.63234      1.0  \n",
      "9    0.250000                     0.13234      0.0  \n",
      "10  -0.333333                    -0.36766      0.0  \n",
      "11  -0.083333                    -0.86766      0.0  \n",
      "12   0.250000                    -0.11766      1.0  \n",
      "13   0.833333                     0.13234      0.0  \n",
      "14  -0.333333                    -0.19266      0.0  \n",
      "15  -0.666667                    -0.61766      1.0  \n",
      "16   1.083333                     0.88234      0.0  \n",
      "17   0.333333                    -0.06766      1.0  \n",
      "18   0.000000                    -0.36766      0.0  \n",
      "19  -0.416667                    -0.99266      0.0  \n",
      "20  -0.583333                    -1.11766      0.0  \n",
      "21   0.000000                    -0.11766      0.0  \n",
      "22  -1.250000                    -0.86766      0.0  \n",
      "23   0.666667                     2.25734      1.0  \n",
      "24  -0.333333                     0.38234      0.0  \n",
      "25   0.750000                     0.63234      0.0  \n",
      "26  -1.000000                     0.00734      1.0  \n",
      "27   0.083333                     0.38234      1.0  \n",
      "28  -1.333333                    -1.36766      0.0  \n",
      "29  -0.166667                     1.13234      0.0  \n",
      "..        ...                         ...      ...  \n",
      "540 -0.333333                    -0.86766      0.0  \n",
      "541 -0.083333                    -0.36766      0.0  \n",
      "542 -0.083333                    -0.61766      0.0  \n",
      "543  0.000000                     0.13234      0.0  \n",
      "544  0.000000                     0.13234      0.0  \n",
      "545  0.750000                     0.38234      0.0  \n",
      "546 -0.416667                    -1.11766      0.0  \n",
      "547 -0.750000                    -1.36766      0.0  \n",
      "548 -0.916667                    -1.36766      0.0  \n",
      "549 -0.416667                    -1.11766      0.0  \n",
      "550 -0.416667                    -1.11766      0.0  \n",
      "551 -0.166667                    -0.11766      1.0  \n",
      "552 -0.833333                    -1.21766      0.0  \n",
      "553  0.750000                     0.13234      1.0  \n",
      "554 -1.166667                    -1.39266      0.0  \n",
      "555  0.333333                     0.18234      0.0  \n",
      "556  0.750000                     0.63234      0.0  \n",
      "557 -0.416667                    -0.11766      0.0  \n",
      "558 -0.083333                    -0.61766      0.0  \n",
      "559  0.750000                     3.88234      0.0  \n",
      "560 -1.000000                    -1.36766      0.0  \n",
      "561 -0.583333                    -1.11766      0.0  \n",
      "562 -0.500000                     3.88234      0.0  \n",
      "563 -0.750000                    -0.61766      0.0  \n",
      "564 -0.416667                    -0.11766      0.0  \n",
      "565 -1.250000                    -1.44266      1.0  \n",
      "566  0.083333                     0.38234      0.0  \n",
      "567  0.083333                     0.13234      0.0  \n",
      "568  0.250000                     0.13234      0.0  \n",
      "569  1.083333                     1.38234      1.0  \n",
      "\n",
      "[570 rows x 11 columns]\n"
     ]
    }
   ],
   "source": [
    "print(data)"
   ]
  },
  {
   "cell_type": "code",
   "execution_count": 15,
   "metadata": {},
   "outputs": [
    {
     "data": {
      "image/png": "[encoded data removed]",
      "text/plain": [
       "<Figure size 432x288 with 1 Axes>"
      ]
     },
     "metadata": {
      "needs_background": "light"
     },
     "output_type": "display_data"
    }
   ],
   "source": [
    "neighbors = np.arange(1, 10)\n",
    "train_accuracies = {}\n",
    "test_accuracies = {}\n",
    "\n",
    "for neighbor in neighbors:\n",
    "    knn = KNeighborsClassifier(n_neighbors=neighbor)\n",
    "    knn.fit(x_train, y_train)\n",
    "    train_accuracies[neighbor] = knn.score(x_train, y_train)\n",
    "    test_accuracies[neighbor] = knn.score(x_test, y_test)\n",
    "plt.plot(neighbors, train_accuracies.values(), label=\"KNN Training Accuracy\")\n",
    "plt.plot(neighbors, test_accuracies.values(), label=\"KNN Testing Accuracy\")\n",
    "plt.legend()\n",
    "plt.xlabel(\"Number of Neighbors\")\n",
    "plt.ylabel(\"Accuracy\")\n",
    "\n",
    "\n",
    "depths = np.arange(1, 10)\n",
    "train_accuracies = {}\n",
    "test_accuracies = {}\n",
    "\n",
    "for depth in depths:\n",
    "    DT = DecisionTreeClassifier(max_depth=depth)\n",
    "    DT.fit(x_train, y_train)\n",
    "    train_accuracies[depth] = DT.score(x_train, y_train)\n",
    "    test_accuracies[depth] = DT.score(x_test, y_test)\n",
    "plt.plot(depths, train_accuracies.values(), label=\"DT Training Accuracy\")\n",
    "plt.plot(depths, test_accuracies.values(), label=\"DT Testing Accuracy\")\n",
    "plt.legend()\n",
    "plt.xlabel(\"Number of Neighbors\")\n",
    "plt.ylabel(\"Accuracy\")\n",
    "plt.show()"
   ]
  },
  {
   "cell_type": "code",
   "execution_count": 16,
   "metadata": {},
   "outputs": [
    {
     "name": "stdout",
     "output_type": "stream",
     "text": [
      "Decision Tree Accuracy: 66.23%\n"
     ]
    }
   ],
   "source": [
    "classifier = DecisionTreeClassifier(max_depth=4)\n",
    "c=classifier.fit(x_train,y_train)\n",
    "y_predict = classifier.predict(x_test)\n",
    "print('Decision Tree Accuracy: {:.2f}%'.format(accuracy_score(y_test,y_predict)*100 ))"
   ]
  },
  {
   "cell_type": "code",
   "execution_count": 17,
   "metadata": {
    "scrolled": true
   },
   "outputs": [
    {
     "name": "stdout",
     "output_type": "stream",
     "text": [
      "KNN Accuracy: 67.98%\n"
     ]
    }
   ],
   "source": [
    "k_classifier = KNeighborsClassifier(n_neighbors=4)\n",
    "k = k_classifier.fit(x_train,y_train)\n",
    "y_predict = k_classifier.predict(x_test)\n",
    "print('KNN Accuracy: {:.2f}%'.format(accuracy_score(y_test,y_predict)*100 ))"
   ]
  },
  {
   "cell_type": "code",
   "execution_count": 63,
   "metadata": {},
   "outputs": [
    {
     "name": "stderr",
     "output_type": "stream",
     "text": [
      "C:\\Users\\TOSHIBA\\Anaconda3\\lib\\site-packages\\sklearn\\neural_network\\_multilayer_perceptron.py:696: ConvergenceWarning: Stochastic Optimizer: Maximum iterations (1) reached and the optimization hasn't converged yet.\n",
      "  ConvergenceWarning,\n",
      "C:\\Users\\TOSHIBA\\Anaconda3\\lib\\site-packages\\sklearn\\neural_network\\_multilayer_perceptron.py:696: ConvergenceWarning: Stochastic Optimizer: Maximum iterations (2) reached and the optimization hasn't converged yet.\n",
      "  ConvergenceWarning,\n",
      "C:\\Users\\TOSHIBA\\Anaconda3\\lib\\site-packages\\sklearn\\neural_network\\_multilayer_perceptron.py:696: ConvergenceWarning: Stochastic Optimizer: Maximum iterations (3) reached and the optimization hasn't converged yet.\n",
      "  ConvergenceWarning,\n",
      "C:\\Users\\TOSHIBA\\Anaconda3\\lib\\site-packages\\sklearn\\neural_network\\_multilayer_perceptron.py:696: ConvergenceWarning: Stochastic Optimizer: Maximum iterations (4) reached and the optimization hasn't converged yet.\n",
      "  ConvergenceWarning,\n",
      "C:\\Users\\TOSHIBA\\Anaconda3\\lib\\site-packages\\sklearn\\neural_network\\_multilayer_perceptron.py:696: ConvergenceWarning: Stochastic Optimizer: Maximum iterations (5) reached and the optimization hasn't converged yet.\n",
      "  ConvergenceWarning,\n",
      "C:\\Users\\TOSHIBA\\Anaconda3\\lib\\site-packages\\sklearn\\neural_network\\_multilayer_perceptron.py:696: ConvergenceWarning: Stochastic Optimizer: Maximum iterations (6) reached and the optimization hasn't converged yet.\n",
      "  ConvergenceWarning,\n",
      "C:\\Users\\TOSHIBA\\Anaconda3\\lib\\site-packages\\sklearn\\neural_network\\_multilayer_perceptron.py:696: ConvergenceWarning: Stochastic Optimizer: Maximum iterations (7) reached and the optimization hasn't converged yet.\n",
      "  ConvergenceWarning,\n",
      "C:\\Users\\TOSHIBA\\Anaconda3\\lib\\site-packages\\sklearn\\neural_network\\_multilayer_perceptron.py:696: ConvergenceWarning: Stochastic Optimizer: Maximum iterations (8) reached and the optimization hasn't converged yet.\n",
      "  ConvergenceWarning,\n",
      "C:\\Users\\TOSHIBA\\Anaconda3\\lib\\site-packages\\sklearn\\neural_network\\_multilayer_perceptron.py:696: ConvergenceWarning: Stochastic Optimizer: Maximum iterations (9) reached and the optimization hasn't converged yet.\n",
      "  ConvergenceWarning,\n",
      "C:\\Users\\TOSHIBA\\Anaconda3\\lib\\site-packages\\sklearn\\neural_network\\_multilayer_perceptron.py:696: ConvergenceWarning: Stochastic Optimizer: Maximum iterations (10) reached and the optimization hasn't converged yet.\n",
      "  ConvergenceWarning,\n",
      "C:\\Users\\TOSHIBA\\Anaconda3\\lib\\site-packages\\sklearn\\neural_network\\_multilayer_perceptron.py:696: ConvergenceWarning: Stochastic Optimizer: Maximum iterations (11) reached and the optimization hasn't converged yet.\n",
      "  ConvergenceWarning,\n",
      "C:\\Users\\TOSHIBA\\Anaconda3\\lib\\site-packages\\sklearn\\neural_network\\_multilayer_perceptron.py:696: ConvergenceWarning: Stochastic Optimizer: Maximum iterations (12) reached and the optimization hasn't converged yet.\n",
      "  ConvergenceWarning,\n",
      "C:\\Users\\TOSHIBA\\Anaconda3\\lib\\site-packages\\sklearn\\neural_network\\_multilayer_perceptron.py:696: ConvergenceWarning: Stochastic Optimizer: Maximum iterations (13) reached and the optimization hasn't converged yet.\n",
      "  ConvergenceWarning,\n",
      "C:\\Users\\TOSHIBA\\Anaconda3\\lib\\site-packages\\sklearn\\neural_network\\_multilayer_perceptron.py:696: ConvergenceWarning: Stochastic Optimizer: Maximum iterations (14) reached and the optimization hasn't converged yet.\n",
      "  ConvergenceWarning,\n",
      "C:\\Users\\TOSHIBA\\Anaconda3\\lib\\site-packages\\sklearn\\neural_network\\_multilayer_perceptron.py:696: ConvergenceWarning: Stochastic Optimizer: Maximum iterations (15) reached and the optimization hasn't converged yet.\n",
      "  ConvergenceWarning,\n",
      "C:\\Users\\TOSHIBA\\Anaconda3\\lib\\site-packages\\sklearn\\neural_network\\_multilayer_perceptron.py:696: ConvergenceWarning: Stochastic Optimizer: Maximum iterations (16) reached and the optimization hasn't converged yet.\n",
      "  ConvergenceWarning,\n",
      "C:\\Users\\TOSHIBA\\Anaconda3\\lib\\site-packages\\sklearn\\neural_network\\_multilayer_perceptron.py:696: ConvergenceWarning: Stochastic Optimizer: Maximum iterations (17) reached and the optimization hasn't converged yet.\n",
      "  ConvergenceWarning,\n",
      "C:\\Users\\TOSHIBA\\Anaconda3\\lib\\site-packages\\sklearn\\neural_network\\_multilayer_perceptron.py:696: ConvergenceWarning: Stochastic Optimizer: Maximum iterations (18) reached and the optimization hasn't converged yet.\n",
      "  ConvergenceWarning,\n",
      "C:\\Users\\TOSHIBA\\Anaconda3\\lib\\site-packages\\sklearn\\neural_network\\_multilayer_perceptron.py:696: ConvergenceWarning: Stochastic Optimizer: Maximum iterations (19) reached and the optimization hasn't converged yet.\n",
      "  ConvergenceWarning,\n",
      "C:\\Users\\TOSHIBA\\Anaconda3\\lib\\site-packages\\sklearn\\neural_network\\_multilayer_perceptron.py:696: ConvergenceWarning: Stochastic Optimizer: Maximum iterations (20) reached and the optimization hasn't converged yet.\n",
      "  ConvergenceWarning,\n",
      "C:\\Users\\TOSHIBA\\Anaconda3\\lib\\site-packages\\sklearn\\neural_network\\_multilayer_perceptron.py:696: ConvergenceWarning: Stochastic Optimizer: Maximum iterations (21) reached and the optimization hasn't converged yet.\n",
      "  ConvergenceWarning,\n",
      "C:\\Users\\TOSHIBA\\Anaconda3\\lib\\site-packages\\sklearn\\neural_network\\_multilayer_perceptron.py:696: ConvergenceWarning: Stochastic Optimizer: Maximum iterations (22) reached and the optimization hasn't converged yet.\n",
      "  ConvergenceWarning,\n",
      "C:\\Users\\TOSHIBA\\Anaconda3\\lib\\site-packages\\sklearn\\neural_network\\_multilayer_perceptron.py:696: ConvergenceWarning: Stochastic Optimizer: Maximum iterations (23) reached and the optimization hasn't converged yet.\n",
      "  ConvergenceWarning,\n",
      "C:\\Users\\TOSHIBA\\Anaconda3\\lib\\site-packages\\sklearn\\neural_network\\_multilayer_perceptron.py:696: ConvergenceWarning: Stochastic Optimizer: Maximum iterations (24) reached and the optimization hasn't converged yet.\n",
      "  ConvergenceWarning,\n",
      "C:\\Users\\TOSHIBA\\Anaconda3\\lib\\site-packages\\sklearn\\neural_network\\_multilayer_perceptron.py:696: ConvergenceWarning: Stochastic Optimizer: Maximum iterations (25) reached and the optimization hasn't converged yet.\n",
      "  ConvergenceWarning,\n",
      "C:\\Users\\TOSHIBA\\Anaconda3\\lib\\site-packages\\sklearn\\neural_network\\_multilayer_perceptron.py:696: ConvergenceWarning: Stochastic Optimizer: Maximum iterations (26) reached and the optimization hasn't converged yet.\n",
      "  ConvergenceWarning,\n",
      "C:\\Users\\TOSHIBA\\Anaconda3\\lib\\site-packages\\sklearn\\neural_network\\_multilayer_perceptron.py:696: ConvergenceWarning: Stochastic Optimizer: Maximum iterations (27) reached and the optimization hasn't converged yet.\n",
      "  ConvergenceWarning,\n",
      "C:\\Users\\TOSHIBA\\Anaconda3\\lib\\site-packages\\sklearn\\neural_network\\_multilayer_perceptron.py:696: ConvergenceWarning: Stochastic Optimizer: Maximum iterations (28) reached and the optimization hasn't converged yet.\n",
      "  ConvergenceWarning,\n",
      "C:\\Users\\TOSHIBA\\Anaconda3\\lib\\site-packages\\sklearn\\neural_network\\_multilayer_perceptron.py:696: ConvergenceWarning: Stochastic Optimizer: Maximum iterations (29) reached and the optimization hasn't converged yet.\n",
      "  ConvergenceWarning,\n",
      "C:\\Users\\TOSHIBA\\Anaconda3\\lib\\site-packages\\sklearn\\neural_network\\_multilayer_perceptron.py:696: ConvergenceWarning: Stochastic Optimizer: Maximum iterations (30) reached and the optimization hasn't converged yet.\n",
      "  ConvergenceWarning,\n",
      "C:\\Users\\TOSHIBA\\Anaconda3\\lib\\site-packages\\sklearn\\neural_network\\_multilayer_perceptron.py:696: ConvergenceWarning: Stochastic Optimizer: Maximum iterations (31) reached and the optimization hasn't converged yet.\n",
      "  ConvergenceWarning,\n",
      "C:\\Users\\TOSHIBA\\Anaconda3\\lib\\site-packages\\sklearn\\neural_network\\_multilayer_perceptron.py:696: ConvergenceWarning: Stochastic Optimizer: Maximum iterations (32) reached and the optimization hasn't converged yet.\n",
      "  ConvergenceWarning,\n",
      "C:\\Users\\TOSHIBA\\Anaconda3\\lib\\site-packages\\sklearn\\neural_network\\_multilayer_perceptron.py:696: ConvergenceWarning: Stochastic Optimizer: Maximum iterations (33) reached and the optimization hasn't converged yet.\n",
      "  ConvergenceWarning,\n",
      "C:\\Users\\TOSHIBA\\Anaconda3\\lib\\site-packages\\sklearn\\neural_network\\_multilayer_perceptron.py:696: ConvergenceWarning: Stochastic Optimizer: Maximum iterations (34) reached and the optimization hasn't converged yet.\n",
      "  ConvergenceWarning,\n",
      "C:\\Users\\TOSHIBA\\Anaconda3\\lib\\site-packages\\sklearn\\neural_network\\_multilayer_perceptron.py:696: ConvergenceWarning: Stochastic Optimizer: Maximum iterations (35) reached and the optimization hasn't converged yet.\n",
      "  ConvergenceWarning,\n",
      "C:\\Users\\TOSHIBA\\Anaconda3\\lib\\site-packages\\sklearn\\neural_network\\_multilayer_perceptron.py:696: ConvergenceWarning: Stochastic Optimizer: Maximum iterations (36) reached and the optimization hasn't converged yet.\n",
      "  ConvergenceWarning,\n"
     ]
    },
    {
     "name": "stderr",
     "output_type": "stream",
     "text": [
      "C:\\Users\\TOSHIBA\\Anaconda3\\lib\\site-packages\\sklearn\\neural_network\\_multilayer_perceptron.py:696: ConvergenceWarning: Stochastic Optimizer: Maximum iterations (37) reached and the optimization hasn't converged yet.\n",
      "  ConvergenceWarning,\n",
      "C:\\Users\\TOSHIBA\\Anaconda3\\lib\\site-packages\\sklearn\\neural_network\\_multilayer_perceptron.py:696: ConvergenceWarning: Stochastic Optimizer: Maximum iterations (38) reached and the optimization hasn't converged yet.\n",
      "  ConvergenceWarning,\n",
      "C:\\Users\\TOSHIBA\\Anaconda3\\lib\\site-packages\\sklearn\\neural_network\\_multilayer_perceptron.py:696: ConvergenceWarning: Stochastic Optimizer: Maximum iterations (39) reached and the optimization hasn't converged yet.\n",
      "  ConvergenceWarning,\n",
      "C:\\Users\\TOSHIBA\\Anaconda3\\lib\\site-packages\\sklearn\\neural_network\\_multilayer_perceptron.py:696: ConvergenceWarning: Stochastic Optimizer: Maximum iterations (40) reached and the optimization hasn't converged yet.\n",
      "  ConvergenceWarning,\n",
      "C:\\Users\\TOSHIBA\\Anaconda3\\lib\\site-packages\\sklearn\\neural_network\\_multilayer_perceptron.py:696: ConvergenceWarning: Stochastic Optimizer: Maximum iterations (41) reached and the optimization hasn't converged yet.\n",
      "  ConvergenceWarning,\n",
      "C:\\Users\\TOSHIBA\\Anaconda3\\lib\\site-packages\\sklearn\\neural_network\\_multilayer_perceptron.py:696: ConvergenceWarning: Stochastic Optimizer: Maximum iterations (42) reached and the optimization hasn't converged yet.\n",
      "  ConvergenceWarning,\n",
      "C:\\Users\\TOSHIBA\\Anaconda3\\lib\\site-packages\\sklearn\\neural_network\\_multilayer_perceptron.py:696: ConvergenceWarning: Stochastic Optimizer: Maximum iterations (43) reached and the optimization hasn't converged yet.\n",
      "  ConvergenceWarning,\n",
      "C:\\Users\\TOSHIBA\\Anaconda3\\lib\\site-packages\\sklearn\\neural_network\\_multilayer_perceptron.py:696: ConvergenceWarning: Stochastic Optimizer: Maximum iterations (44) reached and the optimization hasn't converged yet.\n",
      "  ConvergenceWarning,\n",
      "C:\\Users\\TOSHIBA\\Anaconda3\\lib\\site-packages\\sklearn\\neural_network\\_multilayer_perceptron.py:696: ConvergenceWarning: Stochastic Optimizer: Maximum iterations (45) reached and the optimization hasn't converged yet.\n",
      "  ConvergenceWarning,\n",
      "C:\\Users\\TOSHIBA\\Anaconda3\\lib\\site-packages\\sklearn\\neural_network\\_multilayer_perceptron.py:696: ConvergenceWarning: Stochastic Optimizer: Maximum iterations (46) reached and the optimization hasn't converged yet.\n",
      "  ConvergenceWarning,\n",
      "C:\\Users\\TOSHIBA\\Anaconda3\\lib\\site-packages\\sklearn\\neural_network\\_multilayer_perceptron.py:696: ConvergenceWarning: Stochastic Optimizer: Maximum iterations (47) reached and the optimization hasn't converged yet.\n",
      "  ConvergenceWarning,\n",
      "C:\\Users\\TOSHIBA\\Anaconda3\\lib\\site-packages\\sklearn\\neural_network\\_multilayer_perceptron.py:696: ConvergenceWarning: Stochastic Optimizer: Maximum iterations (48) reached and the optimization hasn't converged yet.\n",
      "  ConvergenceWarning,\n",
      "C:\\Users\\TOSHIBA\\Anaconda3\\lib\\site-packages\\sklearn\\neural_network\\_multilayer_perceptron.py:696: ConvergenceWarning: Stochastic Optimizer: Maximum iterations (49) reached and the optimization hasn't converged yet.\n",
      "  ConvergenceWarning,\n"
     ]
    },
    {
     "data": {
      "image/png": "[encoded data removed]",
      "text/plain": [
       "<Figure size 432x288 with 1 Axes>"
      ]
     },
     "metadata": {
      "needs_background": "light"
     },
     "output_type": "display_data"
    }
   ],
   "source": [
    "iters = np.arange(1, 50)\n",
    "train_accuracies = {}\n",
    "test_accuracies = {}\n",
    "\n",
    "for iterr in iters:\n",
    "    mlp = MLPClassifier(\n",
    "    max_iter=iterr,\n",
    "    alpha=0.1,\n",
    "    activation='logistic',\n",
    "    solver='adam',\n",
    "    random_state=42\n",
    "    )\n",
    "    mlp.fit(x_train, y_train)\n",
    "    train_accuracies[iterr] = mlp.score(x_train, y_train)\n",
    "    test_accuracies[iterr] = mlp.score(x_test, y_test)\n",
    "plt.plot(iters, train_accuracies.values(), label=\"MLP Training Accuracy\")\n",
    "plt.plot(iters, test_accuracies.values(), label=\"MLP Testing Accuracy\")\n",
    "plt.legend()\n",
    "plt.xlabel(\"Number of Neighbors\")\n",
    "plt.ylabel(\"Accuracy\")\n",
    "plt.show()"
   ]
  },
  {
   "cell_type": "code",
   "execution_count": 66,
   "metadata": {},
   "outputs": [
    {
     "name": "stdout",
     "output_type": "stream",
     "text": [
      "MLP Accuracy: 70.61%\n"
     ]
    }
   ],
   "source": [
    "mlp = MLPClassifier(\n",
    "    max_iter=1000,\n",
    "    random_state=42\n",
    ")\n",
    "mlp.fit(x_train, y_train)\n",
    "mlp_predict = mlp.predict(x_test)\n",
    "print('MLP Accuracy: {:.2f}%'.format(accuracy_score(y_test, mlp_predict) * 100))"
   ]
  },
  {
   "cell_type": "code",
   "execution_count": 65,
   "metadata": {},
   "outputs": [
    {
     "name": "stdout",
     "output_type": "stream",
     "text": [
      "MLP Accuracy: 72.81%\n"
     ]
    }
   ],
   "source": [
    "from sklearn import svm\n",
    "svm_classifier = svm.SVC(kernel = 'linear')\n",
    "svm_classifier.fit(x_train, y_train)\n",
    "y_pred = svm_classifier.predict(x_test)\n",
    "print('SVM Accuracy: {:.2f}%'.format(accuracy_score(y_test,y_pred)*100))"
   ]
  },
  {
   "cell_type": "code",
   "execution_count": 1027,
   "metadata": {},
   "outputs": [
    {
     "data": {
      "text/plain": [
       "<matplotlib.axes._subplots.AxesSubplot at 0x273e4898>"
      ]
     },
     "execution_count": 1027,
     "metadata": {},
     "output_type": "execute_result"
    },
    {
     "data": {
      "image/png": "[encoded data removed]",
      "text/plain": [
       "<Figure size 432x288 with 1 Axes>"
      ]
     },
     "metadata": {
      "needs_background": "light"
     },
     "output_type": "display_data"
    }
   ],
   "source": [
    "sb.countplot(x='Dataset', data=data)"
   ]
  },
  {
   "cell_type": "code",
   "execution_count": 1008,
   "metadata": {},
   "outputs": [],
   "source": [
    "#pip install imblearn"
   ]
  },
  {
   "cell_type": "code",
   "execution_count": null,
   "metadata": {},
   "outputs": [],
   "source": []
  }
 ],
 "metadata": {
  "kernelspec": {
   "display_name": "Python 3",
   "language": "python",
   "name": "python3"
  },
  "language_info": {
   "codemirror_mode": {
    "name": "ipython",
    "version": 3
   },
   "file_extension": ".py",
   "mimetype": "text/x-python",
   "name": "python",
   "nbconvert_exporter": "python",
   "pygments_lexer": "ipython3",
   "version": "3.7.3"
  }
 },
 "nbformat": 4,
 "nbformat_minor": 2
}
